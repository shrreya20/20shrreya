{
  "nbformat": 4,
  "nbformat_minor": 0,
  "metadata": {
    "colab": {
      "provenance": [],
      "authorship_tag": "ABX9TyPXnlQyxOUgVRJqAJZsu+Bp",
      "include_colab_link": true
    },
    "kernelspec": {
      "name": "python3",
      "display_name": "Python 3"
    },
    "language_info": {
      "name": "python"
    }
  },
  "cells": [
    {
      "cell_type": "markdown",
      "metadata": {
        "id": "view-in-github",
        "colab_type": "text"
      },
      "source": [
        "<a href=\"https://colab.research.google.com/github/shrreya20/20shrreya/blob/main/Chatbot.ipynb\" target=\"_parent\"><img src=\"https://colab.research.google.com/assets/colab-badge.svg\" alt=\"Open In Colab\"/></a>"
      ]
    },
    {
      "cell_type": "code",
      "execution_count": 3,
      "metadata": {
        "id": "otlmzQ5vMgbE"
      },
      "outputs": [],
      "source": [
        "import re\n",
        "import random"
      ]
    },
    {
      "cell_type": "code",
      "source": [
        "class RuleBot:\n",
        "  ### Potential nagative responses ###\n",
        "  negative_responses = (\"no\", \"nope\", \"nah\", \"not a chance\", \"sorry\", \"its not what you thought\")\n",
        "  ### Exit commands ###\n",
        "  exit_commands = (\"exit\", \"quit\", \"bieee\", \"bye\", \"goodbye\", \"see you later\")\n",
        "  ### Starting questions ###\n",
        "  random_questions = (\n",
        "      \"Why are you here?\",\n",
        "      \"Are there any humans like you?\" , \"What do you consume for sustenance?\",\n",
        "      \"Is there intelligent life on this planet?\" , \"Does earth have a leader?\",\n",
        "      \"What planets have you visited?\", \"What technology do you have on this planet?\"\n",
        "  )\n",
        "\n",
        "  def __init__(self):\n",
        "      self.alienbabble = {'describe_planet_intent': r'.*\\s*your planet.*',\n",
        "                       'answer_why_intent': r'why\\sare.*',\n",
        "                       'about_intellipat' : r'.*\\s*intellipaat'}\n",
        "\n",
        "  def greet(self):\n",
        "    self.name = input(\"What is your name?\\n\") \n",
        "    will_help = input(f\"Hi {self.name}, I am RuleBot. Will you help me about your planet?\\n\")\n",
        "    if will_help in self.negative_responses:\n",
        "       print(\"OK Have a nice day!\")\n",
        "       return\n",
        "    self.chat()\n",
        "\n",
        "  def make_exit(self, reply):\n",
        "    for command in self.exit_commands:\n",
        "       if reply == command:\n",
        "          print(\"OK Have a nice day!\")\n",
        "          return true\n",
        "\n",
        "  def chat(self):\n",
        "     reply = input(random.choice(self.random_questions)).lower()\n",
        "     while not self.make_exit(reply):\n",
        "        reply = input(self.match_reply(reply))\n",
        "\n",
        "  def match_reply(self, reply):\n",
        "     for key, value in self.alienbabble.items():\n",
        "         intent = key\n",
        "         regex_pattern = value\n",
        "         found_match = re.match(regex_pattern, reply)\n",
        "         if found_match and intent == 'describe_planet_intent':\n",
        "            return self.describe_planet_intent()\n",
        "         elif found_match and intent == 'answer_why_intent':\n",
        "            return self.answer_why_intent()\n",
        "         elif found_match and intent == 'about_intellipat':\n",
        "            return self.about_intellipat()\n",
        "         if not found_match:\n",
        "            return self.no_match_intent()\n",
        "\n",
        "  def describe_planet_intent(self):\n",
        "      responses = (\"My planet is a utopia of diverse organisms and species.\\n\"\n",
        "               \"I am from Opidipus, the capital of the Wayward Galaxies. \\n\")\n",
        "      return random.choice(responses)\n",
        "\n",
        "  def answer_why_intent(self):\n",
        "      responses = (\"I am in peace.\\n\", \"I have heard the coffee is good. \\n\", \"I am here to collect data about your planet and inhabitants.\\n\")\n",
        "      return random.choices(responses)\n",
        "\n",
        "  def about_intellipat(self):\n",
        "      responses = (\"Intellipat is the world's largest professional educational company. \\n\", \"Intellipat will make you learn the new concepts in the way never learnt before. \\n\",\n",
        "               \"Intellipat is a place where you career and skills grow. \\n\")\n",
        "      return random.choice(responses)\n",
        "\n",
        "  def no_match_intent(self):\n",
        "      responses = (\n",
        "       \"Pls tell me more. \\n\", \"Tell me more about this. \\n\", \"Why did you say that? \\n\", \"I see. Can you elaborate more about this. \\n\",\n",
        "      \"Interesting..Pls explain more about it.\\n\", \"I see how do you think.\\n\", \"Why? \\n\", \"Why did you think of this? \\n\")\n",
        "      return random.choice(responses) \n",
        "\n",
        "\n",
        "AlienBot = RuleBot()\n",
        "AlienBot.greet()\n"
      ],
      "metadata": {
        "id": "c_zxcntJONPk"
      },
      "execution_count": null,
      "outputs": []
    }
  ]
}